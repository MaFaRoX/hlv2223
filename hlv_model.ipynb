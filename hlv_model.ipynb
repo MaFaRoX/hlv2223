{
 "cells": [
  {
   "cell_type": "code",
   "execution_count": 1,
   "id": "316828d3-0d97-4f48-86a2-0e5ea318a17b",
   "metadata": {},
   "outputs": [],
   "source": [
    "#train and test model\n",
    "import pandas as pd\n",
    "import numpy as np\n",
    "df = pd.read_csv(r'E:\\BT\\sim_train.csv')"
   ]
  },
  {
   "cell_type": "code",
   "execution_count": 2,
   "id": "24d241c7-c4fb-41cc-8884-f2822b0475b3",
   "metadata": {},
   "outputs": [
    {
     "data": {
      "text/html": [
       "<div>\n",
       "<style scoped>\n",
       "    .dataframe tbody tr th:only-of-type {\n",
       "        vertical-align: middle;\n",
       "    }\n",
       "\n",
       "    .dataframe tbody tr th {\n",
       "        vertical-align: top;\n",
       "    }\n",
       "\n",
       "    .dataframe thead th {\n",
       "        text-align: right;\n",
       "    }\n",
       "</style>\n",
       "<table border=\"1\" class=\"dataframe\">\n",
       "  <thead>\n",
       "    <tr style=\"text-align: right;\">\n",
       "      <th></th>\n",
       "      <th>price_vnd</th>\n",
       "      <th>sim_number</th>\n",
       "      <th>provider</th>\n",
       "      <th>same_of_a_kind</th>\n",
       "      <th>straight</th>\n",
       "      <th>same_of_a_kind_middle</th>\n",
       "      <th>straight_middle</th>\n",
       "      <th>fortune</th>\n",
       "      <th>wealth</th>\n",
       "      <th>land</th>\n",
       "      <th>taxi</th>\n",
       "      <th>birth_date</th>\n",
       "      <th>mirror</th>\n",
       "      <th>legacy</th>\n",
       "      <th>memorable</th>\n",
       "      <th>reserve</th>\n",
       "      <th>reserve_middle</th>\n",
       "      <th>repeat</th>\n",
       "      <th>last_number</th>\n",
       "    </tr>\n",
       "  </thead>\n",
       "  <tbody>\n",
       "    <tr>\n",
       "      <th>0</th>\n",
       "      <td>450000</td>\n",
       "      <td>343189288</td>\n",
       "      <td>viettel</td>\n",
       "      <td>0</td>\n",
       "      <td>0</td>\n",
       "      <td>0</td>\n",
       "      <td>0</td>\n",
       "      <td>0</td>\n",
       "      <td>0</td>\n",
       "      <td>0</td>\n",
       "      <td>0</td>\n",
       "      <td>0</td>\n",
       "      <td>0</td>\n",
       "      <td>0</td>\n",
       "      <td>0</td>\n",
       "      <td>0</td>\n",
       "      <td>0</td>\n",
       "      <td>0</td>\n",
       "      <td>8</td>\n",
       "    </tr>\n",
       "    <tr>\n",
       "      <th>1</th>\n",
       "      <td>3000000</td>\n",
       "      <td>888899580</td>\n",
       "      <td>vinaphone</td>\n",
       "      <td>0</td>\n",
       "      <td>0</td>\n",
       "      <td>4</td>\n",
       "      <td>0</td>\n",
       "      <td>0</td>\n",
       "      <td>0</td>\n",
       "      <td>0</td>\n",
       "      <td>0</td>\n",
       "      <td>0</td>\n",
       "      <td>0</td>\n",
       "      <td>0</td>\n",
       "      <td>0</td>\n",
       "      <td>0</td>\n",
       "      <td>0</td>\n",
       "      <td>0</td>\n",
       "      <td>0</td>\n",
       "    </tr>\n",
       "    <tr>\n",
       "      <th>2</th>\n",
       "      <td>500000</td>\n",
       "      <td>928960006</td>\n",
       "      <td>vietnamobile</td>\n",
       "      <td>0</td>\n",
       "      <td>0</td>\n",
       "      <td>3</td>\n",
       "      <td>0</td>\n",
       "      <td>0</td>\n",
       "      <td>0</td>\n",
       "      <td>0</td>\n",
       "      <td>0</td>\n",
       "      <td>0</td>\n",
       "      <td>0</td>\n",
       "      <td>0</td>\n",
       "      <td>0</td>\n",
       "      <td>0</td>\n",
       "      <td>0</td>\n",
       "      <td>0</td>\n",
       "      <td>6</td>\n",
       "    </tr>\n",
       "    <tr>\n",
       "      <th>3</th>\n",
       "      <td>5000000</td>\n",
       "      <td>902438679</td>\n",
       "      <td>mobifone</td>\n",
       "      <td>0</td>\n",
       "      <td>0</td>\n",
       "      <td>0</td>\n",
       "      <td>0</td>\n",
       "      <td>0</td>\n",
       "      <td>2</td>\n",
       "      <td>0</td>\n",
       "      <td>0</td>\n",
       "      <td>0</td>\n",
       "      <td>0</td>\n",
       "      <td>1</td>\n",
       "      <td>0</td>\n",
       "      <td>0</td>\n",
       "      <td>0</td>\n",
       "      <td>0</td>\n",
       "      <td>9</td>\n",
       "    </tr>\n",
       "    <tr>\n",
       "      <th>4</th>\n",
       "      <td>450000</td>\n",
       "      <td>334307889</td>\n",
       "      <td>viettel</td>\n",
       "      <td>0</td>\n",
       "      <td>0</td>\n",
       "      <td>0</td>\n",
       "      <td>0</td>\n",
       "      <td>0</td>\n",
       "      <td>0</td>\n",
       "      <td>0</td>\n",
       "      <td>0</td>\n",
       "      <td>0</td>\n",
       "      <td>0</td>\n",
       "      <td>0</td>\n",
       "      <td>0</td>\n",
       "      <td>0</td>\n",
       "      <td>0</td>\n",
       "      <td>0</td>\n",
       "      <td>9</td>\n",
       "    </tr>\n",
       "    <tr>\n",
       "      <th>...</th>\n",
       "      <td>...</td>\n",
       "      <td>...</td>\n",
       "      <td>...</td>\n",
       "      <td>...</td>\n",
       "      <td>...</td>\n",
       "      <td>...</td>\n",
       "      <td>...</td>\n",
       "      <td>...</td>\n",
       "      <td>...</td>\n",
       "      <td>...</td>\n",
       "      <td>...</td>\n",
       "      <td>...</td>\n",
       "      <td>...</td>\n",
       "      <td>...</td>\n",
       "      <td>...</td>\n",
       "      <td>...</td>\n",
       "      <td>...</td>\n",
       "      <td>...</td>\n",
       "      <td>...</td>\n",
       "    </tr>\n",
       "    <tr>\n",
       "      <th>199995</th>\n",
       "      <td>450000</td>\n",
       "      <td>866161769</td>\n",
       "      <td>viettel</td>\n",
       "      <td>0</td>\n",
       "      <td>0</td>\n",
       "      <td>0</td>\n",
       "      <td>0</td>\n",
       "      <td>0</td>\n",
       "      <td>0</td>\n",
       "      <td>0</td>\n",
       "      <td>0</td>\n",
       "      <td>0</td>\n",
       "      <td>0</td>\n",
       "      <td>0</td>\n",
       "      <td>0</td>\n",
       "      <td>0</td>\n",
       "      <td>0</td>\n",
       "      <td>0</td>\n",
       "      <td>9</td>\n",
       "    </tr>\n",
       "    <tr>\n",
       "      <th>199996</th>\n",
       "      <td>1000000</td>\n",
       "      <td>708124126</td>\n",
       "      <td>mobifone</td>\n",
       "      <td>0</td>\n",
       "      <td>0</td>\n",
       "      <td>0</td>\n",
       "      <td>0</td>\n",
       "      <td>0</td>\n",
       "      <td>0</td>\n",
       "      <td>0</td>\n",
       "      <td>0</td>\n",
       "      <td>0</td>\n",
       "      <td>0</td>\n",
       "      <td>0</td>\n",
       "      <td>1</td>\n",
       "      <td>0</td>\n",
       "      <td>0</td>\n",
       "      <td>0</td>\n",
       "      <td>6</td>\n",
       "    </tr>\n",
       "    <tr>\n",
       "      <th>199997</th>\n",
       "      <td>1000000</td>\n",
       "      <td>904755200</td>\n",
       "      <td>mobifone</td>\n",
       "      <td>0</td>\n",
       "      <td>0</td>\n",
       "      <td>0</td>\n",
       "      <td>0</td>\n",
       "      <td>0</td>\n",
       "      <td>0</td>\n",
       "      <td>0</td>\n",
       "      <td>0</td>\n",
       "      <td>0</td>\n",
       "      <td>0</td>\n",
       "      <td>1</td>\n",
       "      <td>0</td>\n",
       "      <td>0</td>\n",
       "      <td>0</td>\n",
       "      <td>0</td>\n",
       "      <td>0</td>\n",
       "    </tr>\n",
       "    <tr>\n",
       "      <th>199998</th>\n",
       "      <td>450000</td>\n",
       "      <td>329220204</td>\n",
       "      <td>viettel</td>\n",
       "      <td>0</td>\n",
       "      <td>0</td>\n",
       "      <td>0</td>\n",
       "      <td>0</td>\n",
       "      <td>0</td>\n",
       "      <td>0</td>\n",
       "      <td>0</td>\n",
       "      <td>0</td>\n",
       "      <td>6</td>\n",
       "      <td>0</td>\n",
       "      <td>0</td>\n",
       "      <td>0</td>\n",
       "      <td>0</td>\n",
       "      <td>0</td>\n",
       "      <td>0</td>\n",
       "      <td>4</td>\n",
       "    </tr>\n",
       "    <tr>\n",
       "      <th>199999</th>\n",
       "      <td>1000000</td>\n",
       "      <td>904760321</td>\n",
       "      <td>mobifone</td>\n",
       "      <td>0</td>\n",
       "      <td>0</td>\n",
       "      <td>0</td>\n",
       "      <td>0</td>\n",
       "      <td>0</td>\n",
       "      <td>0</td>\n",
       "      <td>0</td>\n",
       "      <td>0</td>\n",
       "      <td>0</td>\n",
       "      <td>0</td>\n",
       "      <td>1</td>\n",
       "      <td>0</td>\n",
       "      <td>3</td>\n",
       "      <td>0</td>\n",
       "      <td>0</td>\n",
       "      <td>1</td>\n",
       "    </tr>\n",
       "  </tbody>\n",
       "</table>\n",
       "<p>200000 rows × 19 columns</p>\n",
       "</div>"
      ],
      "text/plain": [
       "        price_vnd  sim_number      provider  same_of_a_kind  straight  \\\n",
       "0          450000   343189288       viettel               0         0   \n",
       "1         3000000   888899580     vinaphone               0         0   \n",
       "2          500000   928960006  vietnamobile               0         0   \n",
       "3         5000000   902438679      mobifone               0         0   \n",
       "4          450000   334307889       viettel               0         0   \n",
       "...           ...         ...           ...             ...       ...   \n",
       "199995     450000   866161769       viettel               0         0   \n",
       "199996    1000000   708124126      mobifone               0         0   \n",
       "199997    1000000   904755200      mobifone               0         0   \n",
       "199998     450000   329220204       viettel               0         0   \n",
       "199999    1000000   904760321      mobifone               0         0   \n",
       "\n",
       "        same_of_a_kind_middle  straight_middle  fortune  wealth  land  taxi  \\\n",
       "0                           0                0        0       0     0     0   \n",
       "1                           4                0        0       0     0     0   \n",
       "2                           3                0        0       0     0     0   \n",
       "3                           0                0        0       2     0     0   \n",
       "4                           0                0        0       0     0     0   \n",
       "...                       ...              ...      ...     ...   ...   ...   \n",
       "199995                      0                0        0       0     0     0   \n",
       "199996                      0                0        0       0     0     0   \n",
       "199997                      0                0        0       0     0     0   \n",
       "199998                      0                0        0       0     0     0   \n",
       "199999                      0                0        0       0     0     0   \n",
       "\n",
       "        birth_date  mirror  legacy  memorable  reserve  reserve_middle  \\\n",
       "0                0       0       0          0        0               0   \n",
       "1                0       0       0          0        0               0   \n",
       "2                0       0       0          0        0               0   \n",
       "3                0       0       1          0        0               0   \n",
       "4                0       0       0          0        0               0   \n",
       "...            ...     ...     ...        ...      ...             ...   \n",
       "199995           0       0       0          0        0               0   \n",
       "199996           0       0       0          1        0               0   \n",
       "199997           0       0       1          0        0               0   \n",
       "199998           6       0       0          0        0               0   \n",
       "199999           0       0       1          0        3               0   \n",
       "\n",
       "        repeat  last_number  \n",
       "0            0            8  \n",
       "1            0            0  \n",
       "2            0            6  \n",
       "3            0            9  \n",
       "4            0            9  \n",
       "...        ...          ...  \n",
       "199995       0            9  \n",
       "199996       0            6  \n",
       "199997       0            0  \n",
       "199998       0            4  \n",
       "199999       0            1  \n",
       "\n",
       "[200000 rows x 19 columns]"
      ]
     },
     "execution_count": 2,
     "metadata": {},
     "output_type": "execute_result"
    }
   ],
   "source": [
    "df"
   ]
  },
  {
   "cell_type": "code",
   "execution_count": 3,
   "id": "a7ca232f-4755-466e-aca7-ac921e6e59a8",
   "metadata": {},
   "outputs": [],
   "source": [
    "df=df.replace(['itelecom','gmobile','vietnamobile','mobifone','vinaphone','viettel'],[1,2,3,4,5,6])"
   ]
  },
  {
   "cell_type": "code",
   "execution_count": 4,
   "id": "1a253fe1-73e9-48af-971c-8b2ab2647187",
   "metadata": {},
   "outputs": [
    {
     "data": {
      "text/plain": [
       "price_vnd                int64\n",
       "sim_number               int64\n",
       "provider                 int64\n",
       "same_of_a_kind           int64\n",
       "straight                 int64\n",
       "same_of_a_kind_middle    int64\n",
       "straight_middle          int64\n",
       "fortune                  int64\n",
       "wealth                   int64\n",
       "land                     int64\n",
       "taxi                     int64\n",
       "birth_date               int64\n",
       "mirror                   int64\n",
       "legacy                   int64\n",
       "memorable                int64\n",
       "reserve                  int64\n",
       "reserve_middle           int64\n",
       "repeat                   int64\n",
       "last_number              int64\n",
       "dtype: object"
      ]
     },
     "execution_count": 4,
     "metadata": {},
     "output_type": "execute_result"
    }
   ],
   "source": [
    "df.dtypes"
   ]
  },
  {
   "cell_type": "code",
   "execution_count": 5,
   "id": "573cb852-bc0c-4b54-8896-8fd8425550d3",
   "metadata": {},
   "outputs": [],
   "source": [
    "df = df[df['price_vnd'] <= 10000000000]\n",
    "df2 = df[df['price_vnd'] <= 10000000000]"
   ]
  },
  {
   "cell_type": "code",
   "execution_count": 6,
   "id": "7e87bb56-9e48-46b6-8322-d1cc301a96a6",
   "metadata": {},
   "outputs": [],
   "source": [
    "df['price_vnd'] = np.log(df['price_vnd'])"
   ]
  },
  {
   "cell_type": "code",
   "execution_count": 7,
   "id": "6d833188-6b60-4db5-9013-d8eb9a5f0254",
   "metadata": {},
   "outputs": [],
   "source": [
    "x = df.drop('price_vnd', axis = 1)\n",
    "y = df.price_vnd"
   ]
  },
  {
   "cell_type": "code",
   "execution_count": 8,
   "id": "70f4291e-2d63-49ab-997d-33678cbfb518",
   "metadata": {},
   "outputs": [
    {
     "data": {
      "text/plain": [
       "sim_number               int64\n",
       "provider                 int64\n",
       "same_of_a_kind           int64\n",
       "straight                 int64\n",
       "same_of_a_kind_middle    int64\n",
       "straight_middle          int64\n",
       "fortune                  int64\n",
       "wealth                   int64\n",
       "land                     int64\n",
       "taxi                     int64\n",
       "birth_date               int64\n",
       "mirror                   int64\n",
       "legacy                   int64\n",
       "memorable                int64\n",
       "reserve                  int64\n",
       "reserve_middle           int64\n",
       "repeat                   int64\n",
       "last_number              int64\n",
       "dtype: object"
      ]
     },
     "execution_count": 8,
     "metadata": {},
     "output_type": "execute_result"
    }
   ],
   "source": [
    "x.dtypes"
   ]
  },
  {
   "cell_type": "code",
   "execution_count": 9,
   "id": "7519058a-332d-4c6e-bcb6-08b84a0e9c98",
   "metadata": {},
   "outputs": [],
   "source": [
    "from sklearn.model_selection import train_test_split"
   ]
  },
  {
   "cell_type": "code",
   "execution_count": 10,
   "id": "cc8754bd-d601-4833-915a-73a317ad1fe8",
   "metadata": {},
   "outputs": [],
   "source": [
    "x_train, x_test, y_train, y_test = train_test_split(x, y, test_size=0.3, random_state=1)"
   ]
  },
  {
   "cell_type": "code",
   "execution_count": 12,
   "id": "1b91bf85-e6f1-4ebc-acce-a95a10c6b6aa",
   "metadata": {},
   "outputs": [],
   "source": [
    "from sklearn.metrics import mean_squared_error, mean_absolute_error"
   ]
  },
  {
   "cell_type": "code",
   "execution_count": 13,
   "id": "32ef5fee-29c5-429f-9371-2c01dd268bcb",
   "metadata": {},
   "outputs": [],
   "source": [
    "from sklearn.ensemble import GradientBoostingRegressor\n",
    "from xgboost import XGBRegressor\n",
    "from sklearn.ensemble import RandomForestRegressor\n",
    "from sklearn.linear_model import RidgeCV\n",
    "from sklearn.pipeline import make_pipeline, make_union\n",
    "from tpot.builtins import StackingEstimator"
   ]
  },
  {
   "cell_type": "code",
   "execution_count": 14,
   "id": "9515a972-13e1-467e-9daa-c190274c08af",
   "metadata": {},
   "outputs": [],
   "source": [
    "clf = RandomForestRegressor(bootstrap=False, max_features=0.6500000000000001, min_samples_leaf=5, min_samples_split=7, n_estimators=100, n_jobs=-1)"
   ]
  },
  {
   "cell_type": "code",
   "execution_count": 15,
   "id": "2528e71d-6590-48e4-8dbe-8887d79c498e",
   "metadata": {},
   "outputs": [],
   "source": [
    "clf2 = make_pipeline(\n",
    "    StackingEstimator(estimator=RidgeCV()),\n",
    "    RandomForestRegressor(bootstrap=True, max_features=0.5, min_samples_leaf=3, min_samples_split=2, n_estimators=100, n_jobs=-1)\n",
    ")"
   ]
  },
  {
   "cell_type": "code",
   "execution_count": 16,
   "id": "427f07d8-6388-42d5-b8e9-e8538a0fc327",
   "metadata": {},
   "outputs": [],
   "source": [
    "clf.fit(x_train, y_train)\n",
    "y_pred_etr = clf.predict(x_test)"
   ]
  },
  {
   "cell_type": "code",
   "execution_count": 17,
   "id": "7f122f98-04a9-4803-920c-d4a639b3d567",
   "metadata": {},
   "outputs": [],
   "source": [
    "clf2.fit(x_train, y_train)\n",
    "y_pred_xgb = clf2.predict(x_test)"
   ]
  },
  {
   "cell_type": "code",
   "execution_count": 18,
   "id": "03fe82bb-db69-467d-beba-16b126c89f35",
   "metadata": {},
   "outputs": [],
   "source": [
    "y_pred_xgb = np.exp(y_pred_xgb)"
   ]
  },
  {
   "cell_type": "code",
   "execution_count": 19,
   "id": "4875943c-e954-4da5-b1bc-c93e80427adf",
   "metadata": {},
   "outputs": [],
   "source": [
    "y_pred_etr = np.exp(y_pred_etr)"
   ]
  },
  {
   "cell_type": "code",
   "execution_count": 20,
   "id": "c08c752e-4706-4262-9916-12f510ed7447",
   "metadata": {},
   "outputs": [
    {
     "name": "stdout",
     "output_type": "stream",
     "text": [
      "7023660.0622252915\n",
      "1641120191137311.8\n",
      "-775321058522964.2\n"
     ]
    }
   ],
   "source": [
    "print(mean_absolute_error(y_test, y_pred_etr))\n",
    "print(mean_squared_error(y_test, y_pred_etr))"
   ]
  },
  {
   "cell_type": "code",
   "execution_count": 75,
   "id": "bc666294-efab-4d4d-9783-66151aff32f5",
   "metadata": {},
   "outputs": [
    {
     "name": "stdout",
     "output_type": "stream",
     "text": [
      "6840524.654645381\n",
      "1404857101612193.5\n"
     ]
    }
   ],
   "source": [
    "print(mean_absolute_error(y_test, y_pred_xgb))\n",
    "print(mean_squared_error(y_test, y_pred_xgb))"
   ]
  },
  {
   "cell_type": "code",
   "execution_count": 76,
   "id": "59e43aa4-3a71-4d64-97d6-6ccee2755748",
   "metadata": {},
   "outputs": [],
   "source": [
    "df3 = pd.read_csv(r'E:\\BT\\sim_test_ed.csv')"
   ]
  },
  {
   "cell_type": "code",
   "execution_count": 77,
   "id": "b1d4ce4e-c620-4915-8525-b3a13cd6ebe1",
   "metadata": {},
   "outputs": [],
   "source": [
    "df3=df3.replace(['itelecom','gmobile','vietnamobile','mobifone','vinaphone','viettel'],[1,2,3,4,5,6])"
   ]
  },
  {
   "cell_type": "code",
   "execution_count": 78,
   "id": "a4ba30f8-4f79-4e89-8e80-9052681953ef",
   "metadata": {},
   "outputs": [],
   "source": [
    "y_pred_test1 = clf.predict(df3)\n",
    "y_pred_test1 = np.exp(y_pred_test1)\n",
    "y_pred_test1 = pd.DataFrame(y_pred_test1, columns = ['price_vnd'])\n",
    "y_pred_test1.to_csv(r'E:\\BT\\test11.csv', index=False)"
   ]
  },
  {
   "cell_type": "code",
   "execution_count": 79,
   "id": "b98a00ec-c299-4012-83be-ba9064b33793",
   "metadata": {},
   "outputs": [],
   "source": [
    "y_pred_test2 = clf2.predict(df3)\n",
    "y_pred_test2 = np.exp(y_pred_test2)\n",
    "y_pred_test2 = pd.DataFrame(y_pred_test2, columns = ['price_vnd'])\n",
    "y_pred_test2.to_csv(r'E:\\BT\\test22.csv', index=False)"
   ]
  },
  {
   "cell_type": "code",
   "execution_count": 82,
   "id": "ffeff0fb-3262-4167-b688-e10189a68691",
   "metadata": {},
   "outputs": [
    {
     "data": {
      "text/html": [
       "<div>\n",
       "<style scoped>\n",
       "    .dataframe tbody tr th:only-of-type {\n",
       "        vertical-align: middle;\n",
       "    }\n",
       "\n",
       "    .dataframe tbody tr th {\n",
       "        vertical-align: top;\n",
       "    }\n",
       "\n",
       "    .dataframe thead th {\n",
       "        text-align: right;\n",
       "    }\n",
       "</style>\n",
       "<table border=\"1\" class=\"dataframe\">\n",
       "  <thead>\n",
       "    <tr style=\"text-align: right;\">\n",
       "      <th></th>\n",
       "      <th>price_vnd</th>\n",
       "    </tr>\n",
       "  </thead>\n",
       "  <tbody>\n",
       "    <tr>\n",
       "      <th>count</th>\n",
       "      <td>149060.0</td>\n",
       "    </tr>\n",
       "    <tr>\n",
       "      <th>mean</th>\n",
       "      <td>7112649.3</td>\n",
       "    </tr>\n",
       "    <tr>\n",
       "      <th>std</th>\n",
       "      <td>44311295.8</td>\n",
       "    </tr>\n",
       "    <tr>\n",
       "      <th>min</th>\n",
       "      <td>298857.1</td>\n",
       "    </tr>\n",
       "    <tr>\n",
       "      <th>25%</th>\n",
       "      <td>576431.8</td>\n",
       "    </tr>\n",
       "    <tr>\n",
       "      <th>50%</th>\n",
       "      <td>1074992.3</td>\n",
       "    </tr>\n",
       "    <tr>\n",
       "      <th>75%</th>\n",
       "      <td>4011844.0</td>\n",
       "    </tr>\n",
       "    <tr>\n",
       "      <th>max</th>\n",
       "      <td>2789407272.7</td>\n",
       "    </tr>\n",
       "  </tbody>\n",
       "</table>\n",
       "</div>"
      ],
      "text/plain": [
       "          price_vnd\n",
       "count      149060.0\n",
       "mean      7112649.3\n",
       "std      44311295.8\n",
       "min        298857.1\n",
       "25%        576431.8\n",
       "50%       1074992.3\n",
       "75%       4011844.0\n",
       "max    2789407272.7"
      ]
     },
     "execution_count": 82,
     "metadata": {},
     "output_type": "execute_result"
    }
   ],
   "source": [
    "y_pred_test2.describe().apply(lambda s: s.apply('{0:.1f}'.format))"
   ]
  },
  {
   "cell_type": "code",
   "execution_count": null,
   "id": "01fd3760-b9de-43e6-9289-b7ed269ed3df",
   "metadata": {},
   "outputs": [],
   "source": []
  }
 ],
 "metadata": {
  "kernelspec": {
   "display_name": "Python 3 (ipykernel)",
   "language": "python",
   "name": "python3"
  },
  "language_info": {
   "codemirror_mode": {
    "name": "ipython",
    "version": 3
   },
   "file_extension": ".py",
   "mimetype": "text/x-python",
   "name": "python",
   "nbconvert_exporter": "python",
   "pygments_lexer": "ipython3",
   "version": "3.9.7"
  }
 },
 "nbformat": 4,
 "nbformat_minor": 5
}
